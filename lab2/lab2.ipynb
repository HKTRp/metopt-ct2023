{
 "cells": [
  {
   "cell_type": "code",
   "execution_count": 42,
   "metadata": {},
   "outputs": [],
   "source": [
    "import numpy as np\n",
    "from matplotlib import pyplot as plt\n",
    "\n",
    "\n",
    "def loss(actual_values, calculated_values):\n",
    "    return calculated_values - actual_values\n",
    "\n",
    "def stochastic_grad_desc(X_data,\n",
    "                         y_data,\n",
    "                         learning_rate = 1e-2,\n",
    "                         eps = 1e-4,\n",
    "                         batch_size = 1,\n",
    "                         max_iter = 1000):\n",
    "    n = y_data.size\n",
    "    current = np.zeros(X_data.shape[1])\n",
    "    result = current\n",
    "    for i in range(max_iter):\n",
    "        for j in range(batch_size):\n",
    "            index = np.random.randint(0, n)\n",
    "            batch_x = X_data[index]\n",
    "            batch_y = y_data[index]\n",
    "            hypotesis = np.dot(batch_x, current)\n",
    "            error = loss(batch_y, hypotesis)\n",
    "            if np.abs(error) < eps:\n",
    "                return result\n",
    "            grad = np.dot(batch_x.T, error) / len(batch_x)\n",
    "            current -= learning_rate * grad\n",
    "            result = np.vstack((result, current))\n",
    "    return result"
   ]
  },
  {
   "cell_type": "code",
   "execution_count": 43,
   "metadata": {},
   "outputs": [
    {
     "name": "stdout",
     "output_type": "stream",
     "text": [
      "actual value: 2, calculated value: 1.9954276320752748\n",
      "actual value: -14, calculated value: -13.993002480232704\n",
      "actual value: 1, calculated value: 0.9985474512278301\n",
      "actual value: -1, calculated value: -1.0018819919886006\n",
      "actual value: -7, calculated value: -6.996501240116352\n",
      "actual value: -8, calculated value: -8.000050502485337\n"
     ]
    }
   ],
   "source": [
    "X = np.array([\n",
    "    [4, 1],\n",
    "    [2, 8],\n",
    "    [1, 0],\n",
    "    [3, 2],\n",
    "    [1, 4],\n",
    "    [6, 7]\n",
    "])\n",
    "\n",
    "y = np.array([\n",
    "    2,\n",
    "    -14,\n",
    "    1,\n",
    "    -1,\n",
    "    -7,\n",
    "    -8\n",
    "])\n",
    "\n",
    "result = stochastic_grad_desc(X, y)\n",
    "values = result[-1]\n",
    "for i in range(len(X)):\n",
    "    calculated = np.dot(X[i], values)\n",
    "    print(f'actual value: {y[i]}, calculated value: {calculated}')"
   ]
  }
 ],
 "metadata": {
  "kernelspec": {
   "display_name": "Python 3",
   "language": "python",
   "name": "python3"
  },
  "language_info": {
   "codemirror_mode": {
    "name": "ipython",
    "version": 3
   },
   "file_extension": ".py",
   "mimetype": "text/x-python",
   "name": "python",
   "nbconvert_exporter": "python",
   "pygments_lexer": "ipython3",
   "version": "3.10.2"
  },
  "orig_nbformat": 4
 },
 "nbformat": 4,
 "nbformat_minor": 2
}
