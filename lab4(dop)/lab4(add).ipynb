{
 "cells": [
  {
   "cell_type": "code",
   "execution_count": 74,
   "metadata": {
    "collapsed": true
   },
   "outputs": [],
   "source": [
    "def g(x):\n",
    "  return 0.5 * (x[0] - 5)**2 + 0.25 * (x[1]+4)**2 + 3\n",
    "\n",
    "def h(x):\n",
    "  return 1/100*(x[0] ** 2 + 5 * x[1] ** 2 + 3 * x[0]*x[1])"
   ]
  },
  {
   "cell_type": "code",
   "execution_count": 75,
   "outputs": [],
   "source": [
    "import numpy as np\n",
    "from scipy.optimize import LinearConstraint\n",
    "from scipy.optimize import NonlinearConstraint\n",
    "from scipy.optimize import minimize"
   ],
   "metadata": {
    "collapsed": false
   }
  },
  {
   "cell_type": "code",
   "execution_count": 113,
   "outputs": [],
   "source": [
    "def test(func, methd, constraints):\n",
    "    x0 = np.array([0, 0])\n",
    "    res = minimize(func, x0, method=methd, constraints=constraints)\n",
    "    print(res)"
   ],
   "metadata": {
    "collapsed": false
   }
  },
  {
   "cell_type": "markdown",
   "source": [
    "Линейные ограничения"
   ],
   "metadata": {
    "collapsed": false
   }
  },
  {
   "cell_type": "markdown",
   "source": [
    "Минимум находится внутри области ограничения"
   ],
   "metadata": {
    "collapsed": false
   }
  },
  {
   "cell_type": "code",
   "execution_count": 79,
   "outputs": [],
   "source": [
    "a = 20\n",
    "b = a * 1.2\n",
    "linear_constraint = LinearConstraint ([[1, 0], [0, 1], [1, 1], [1, -1]], [-a, -a, -b, -b], [a, a, b, b])"
   ],
   "metadata": {
    "collapsed": false
   }
  },
  {
   "cell_type": "markdown",
   "source": [
    "Доверительный радиус"
   ],
   "metadata": {
    "collapsed": false
   }
  },
  {
   "cell_type": "code",
   "execution_count": 81,
   "outputs": [
    {
     "name": "stdout",
     "output_type": "stream",
     "text": [
      "[ 4.99999987 -3.99999982] 0.021665096282958984\n"
     ]
    }
   ],
   "source": [
    "test(g, 'trust-constr', linear_constraint)"
   ],
   "metadata": {
    "collapsed": false
   }
  },
  {
   "cell_type": "markdown",
   "source": [
    "BFGS"
   ],
   "metadata": {
    "collapsed": false
   }
  },
  {
   "cell_type": "code",
   "execution_count": 90,
   "outputs": [
    {
     "name": "stdout",
     "output_type": "stream",
     "text": [
      "[ 4.99994823 -3.9999544 ]\n"
     ]
    }
   ],
   "source": [
    "test(g, 'COBYLA', linear_constraint)"
   ],
   "metadata": {
    "collapsed": false
   }
  },
  {
   "cell_type": "markdown",
   "source": [
    "Минимум находится на границе области ограничения"
   ],
   "metadata": {
    "collapsed": false
   }
  },
  {
   "cell_type": "code",
   "execution_count": 98,
   "outputs": [],
   "source": [
    "a = 20\n",
    "b = a * 1.2\n",
    "linear_constraint = LinearConstraint ([[1, 0], [0, 1], [1, 1], [1, -1]], [-a, -a, -b, -b], [a, a, b, 9])"
   ],
   "metadata": {
    "collapsed": false
   }
  },
  {
   "cell_type": "markdown",
   "source": [
    "Доверительный радиус"
   ],
   "metadata": {
    "collapsed": false
   }
  },
  {
   "cell_type": "code",
   "execution_count": 99,
   "outputs": [
    {
     "name": "stdout",
     "output_type": "stream",
     "text": [
      "[ 4.99842469 -3.99684959]\n"
     ]
    }
   ],
   "source": [
    "test(g, 'trust-constr', linear_constraint)"
   ],
   "metadata": {
    "collapsed": false
   }
  },
  {
   "cell_type": "markdown",
   "source": [
    "BFGS"
   ],
   "metadata": {
    "collapsed": false
   }
  },
  {
   "cell_type": "code",
   "execution_count": 100,
   "outputs": [
    {
     "name": "stdout",
     "output_type": "stream",
     "text": [
      "[ 4.9999154  -4.00006883]\n"
     ]
    }
   ],
   "source": [
    "test(g, 'COBYLA', linear_constraint)"
   ],
   "metadata": {
    "collapsed": false
   }
  },
  {
   "cell_type": "markdown",
   "source": [
    "Минимум находится вне области ограничения"
   ],
   "metadata": {
    "collapsed": false
   }
  },
  {
   "cell_type": "code",
   "execution_count": 101,
   "outputs": [],
   "source": [
    "a = 20\n",
    "b = a * 1.2\n",
    "linear_constraint = LinearConstraint ([[1, 0], [0, 1], [1, 1], [1, -1]], [-a, -a, -b, -b], [a, a, b, 6])"
   ],
   "metadata": {
    "collapsed": false
   }
  },
  {
   "cell_type": "markdown",
   "source": [
    "Доверительный радиус"
   ],
   "metadata": {
    "collapsed": false
   }
  },
  {
   "cell_type": "code",
   "execution_count": 102,
   "outputs": [
    {
     "name": "stdout",
     "output_type": "stream",
     "text": [
      "[ 3.99999783 -1.99999577]\n"
     ]
    }
   ],
   "source": [
    "test(g, 'trust-constr', linear_constraint)"
   ],
   "metadata": {
    "collapsed": false
   }
  },
  {
   "cell_type": "markdown",
   "source": [
    "BFGS"
   ],
   "metadata": {
    "collapsed": false
   }
  },
  {
   "cell_type": "code",
   "execution_count": 103,
   "outputs": [
    {
     "name": "stdout",
     "output_type": "stream",
     "text": [
      "[ 3.99991087 -2.00008913]\n"
     ]
    }
   ],
   "source": [
    "test(g, 'COBYLA', linear_constraint)"
   ],
   "metadata": {
    "collapsed": false
   }
  },
  {
   "cell_type": "markdown",
   "source": [
    "Нелинейные ограничения"
   ],
   "metadata": {
    "collapsed": false
   }
  },
  {
   "cell_type": "markdown",
   "source": [
    "Минимум находится внутри области ограничения"
   ],
   "metadata": {
    "collapsed": false
   }
  },
  {
   "cell_type": "code",
   "execution_count": 104,
   "outputs": [],
   "source": [
    "r = 10\n",
    "\n",
    "def cons_f(x):\n",
    "     return [np.sqrt(x[0]**2 + x[1]**2)]\n",
    "\n",
    "nonlinear_constraint = NonlinearConstraint(cons_f, 0, r)"
   ],
   "metadata": {
    "collapsed": false
   }
  },
  {
   "cell_type": "markdown",
   "source": [
    "Доверительный радиус"
   ],
   "metadata": {
    "collapsed": false
   }
  },
  {
   "cell_type": "code",
   "execution_count": 117,
   "outputs": [
    {
     "name": "stdout",
     "output_type": "stream",
     "text": [
      " barrier_parameter: 1.2800000000000007e-06\n",
      " barrier_tolerance: 1.2800000000000007e-06\n",
      "          cg_niter: 21\n",
      "      cg_stop_cond: 1\n",
      "            constr: [array([2.99999952])]\n",
      "       constr_nfev: [39]\n",
      "       constr_nhev: [0]\n",
      "       constr_njev: [0]\n",
      "    constr_penalty: 1.0\n",
      "  constr_violation: 0.0\n",
      "    execution_time: 0.03003215789794922\n",
      "               fun: 7.442510707478946\n",
      "              grad: array([-2.36381549,  1.28401669])\n",
      "               jac: [array([[ 0.8787283 , -0.47732229]])]\n",
      "   lagrangian_grad: array([-3.77283405e-09, -6.94561209e-09])\n",
      "           message: '`gtol` termination condition is satisfied.'\n",
      "            method: 'tr_interior_point'\n",
      "              nfev: 39\n",
      "              nhev: 0\n",
      "               nit: 20\n",
      "             niter: 20\n",
      "              njev: 13\n",
      "        optimality: 6.94561208547384e-09\n",
      "            status: 1\n",
      "           success: True\n",
      "         tr_radius: 2266581.4139537904\n",
      "                 v: [array([2.69004137])]\n",
      "                 x: array([ 2.6361845 , -1.43196663])\n"
     ]
    }
   ],
   "source": [
    "test(g, 'trust-constr', nonlinear_constraint)"
   ],
   "metadata": {
    "collapsed": false
   }
  },
  {
   "cell_type": "markdown",
   "source": [
    "BFGS"
   ],
   "metadata": {
    "collapsed": false
   }
  },
  {
   "cell_type": "code",
   "execution_count": 116,
   "outputs": [
    {
     "name": "stdout",
     "output_type": "stream",
     "text": [
      "     fun: 7.442509423218549\n",
      "   maxcv: 3.33333316504536e-09\n",
      " message: 'Optimization terminated successfully.'\n",
      "    nfev: 46\n",
      "  status: 1\n",
      " success: True\n",
      "       x: array([ 2.63622258, -1.43189753])\n"
     ]
    }
   ],
   "source": [
    "test(g, 'COBYLA', nonlinear_constraint)"
   ],
   "metadata": {
    "collapsed": false
   }
  },
  {
   "cell_type": "markdown",
   "source": [
    "Минимум находится на границе области ограничения"
   ],
   "metadata": {
    "collapsed": false
   }
  },
  {
   "cell_type": "code",
   "execution_count": 107,
   "outputs": [],
   "source": [
    "r = 6.4\n",
    "\n",
    "def cons_f(x):\n",
    "     return [np.sqrt(x[0]**2 + x[1]**2)]\n",
    "\n",
    "nonlinear_constraint = NonlinearConstraint(cons_f, 0, r)"
   ],
   "metadata": {
    "collapsed": false
   }
  },
  {
   "cell_type": "markdown",
   "source": [
    "Доверительный радиус"
   ],
   "metadata": {
    "collapsed": false
   }
  },
  {
   "cell_type": "code",
   "execution_count": 118,
   "outputs": [
    {
     "name": "stdout",
     "output_type": "stream",
     "text": [
      " barrier_parameter: 1.2800000000000007e-06\n",
      " barrier_tolerance: 1.2800000000000007e-06\n",
      "          cg_niter: 21\n",
      "      cg_stop_cond: 1\n",
      "            constr: [array([2.99999952])]\n",
      "       constr_nfev: [39]\n",
      "       constr_nhev: [0]\n",
      "       constr_njev: [0]\n",
      "    constr_penalty: 1.0\n",
      "  constr_violation: 0.0\n",
      "    execution_time: 0.02199697494506836\n",
      "               fun: 7.442510707478946\n",
      "              grad: array([-2.36381549,  1.28401669])\n",
      "               jac: [array([[ 0.8787283 , -0.47732229]])]\n",
      "   lagrangian_grad: array([-3.77283405e-09, -6.94561209e-09])\n",
      "           message: '`gtol` termination condition is satisfied.'\n",
      "            method: 'tr_interior_point'\n",
      "              nfev: 39\n",
      "              nhev: 0\n",
      "               nit: 20\n",
      "             niter: 20\n",
      "              njev: 13\n",
      "        optimality: 6.94561208547384e-09\n",
      "            status: 1\n",
      "           success: True\n",
      "         tr_radius: 2266581.4139537904\n",
      "                 v: [array([2.69004137])]\n",
      "                 x: array([ 2.6361845 , -1.43196663])\n"
     ]
    }
   ],
   "source": [
    "test(g, 'trust-constr', nonlinear_constraint)"
   ],
   "metadata": {
    "collapsed": false
   }
  },
  {
   "cell_type": "markdown",
   "source": [
    "BFGS"
   ],
   "metadata": {
    "collapsed": false
   }
  },
  {
   "cell_type": "code",
   "execution_count": 115,
   "outputs": [
    {
     "name": "stdout",
     "output_type": "stream",
     "text": [
      "     fun: 7.442509423218549\n",
      "   maxcv: 3.33333316504536e-09\n",
      " message: 'Optimization terminated successfully.'\n",
      "    nfev: 46\n",
      "  status: 1\n",
      " success: True\n",
      "       x: array([ 2.63622258, -1.43189753])\n"
     ]
    }
   ],
   "source": [
    "test(g, 'COBYLA', nonlinear_constraint)"
   ],
   "metadata": {
    "collapsed": false
   }
  },
  {
   "cell_type": "markdown",
   "source": [
    "Минимум находится вне области ограничения"
   ],
   "metadata": {
    "collapsed": false
   }
  },
  {
   "cell_type": "code",
   "execution_count": 110,
   "outputs": [],
   "source": [
    "r = 3\n",
    "\n",
    "def cons_f(x):\n",
    "     return [np.sqrt(x[0]**2 + x[1]**2)]\n",
    "\n",
    "nonlinear_constraint = NonlinearConstraint(cons_f, 0, r)"
   ],
   "metadata": {
    "collapsed": false
   }
  },
  {
   "cell_type": "markdown",
   "source": [
    "Доверительный радиус"
   ],
   "metadata": {
    "collapsed": false
   }
  },
  {
   "cell_type": "code",
   "execution_count": 111,
   "outputs": [
    {
     "name": "stdout",
     "output_type": "stream",
     "text": [
      "[ 2.6361845  -1.43196663]\n"
     ]
    }
   ],
   "source": [
    "test(g, 'trust-constr', nonlinear_constraint)"
   ],
   "metadata": {
    "collapsed": false
   }
  },
  {
   "cell_type": "markdown",
   "source": [
    "BFGS"
   ],
   "metadata": {
    "collapsed": false
   }
  },
  {
   "cell_type": "code",
   "execution_count": 114,
   "outputs": [
    {
     "name": "stdout",
     "output_type": "stream",
     "text": [
      "     fun: 7.442509423218549\n",
      "   maxcv: 3.33333316504536e-09\n",
      " message: 'Optimization terminated successfully.'\n",
      "    nfev: 46\n",
      "  status: 1\n",
      " success: True\n",
      "       x: array([ 2.63622258, -1.43189753])\n"
     ]
    }
   ],
   "source": [
    "test(g, 'COBYLA', nonlinear_constraint)"
   ],
   "metadata": {
    "collapsed": false
   }
  },
  {
   "cell_type": "code",
   "execution_count": null,
   "outputs": [],
   "source": [],
   "metadata": {
    "collapsed": false
   }
  }
 ],
 "metadata": {
  "kernelspec": {
   "display_name": "Python 3",
   "language": "python",
   "name": "python3"
  },
  "language_info": {
   "codemirror_mode": {
    "name": "ipython",
    "version": 2
   },
   "file_extension": ".py",
   "mimetype": "text/x-python",
   "name": "python",
   "nbconvert_exporter": "python",
   "pygments_lexer": "ipython2",
   "version": "2.7.6"
  }
 },
 "nbformat": 4,
 "nbformat_minor": 0
}
